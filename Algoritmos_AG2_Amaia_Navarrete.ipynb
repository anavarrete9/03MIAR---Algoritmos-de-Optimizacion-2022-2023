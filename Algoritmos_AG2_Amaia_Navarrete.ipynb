{
  "nbformat": 4,
  "nbformat_minor": 0,
  "metadata": {
    "colab": {
      "provenance": [],
      "authorship_tag": "ABX9TyNM3GjRygysZHRJR/fvp1wX",
      "include_colab_link": true
    },
    "kernelspec": {
      "name": "python3",
      "display_name": "Python 3"
    },
    "language_info": {
      "name": "python"
    }
  },
  "cells": [
    {
      "cell_type": "markdown",
      "metadata": {
        "id": "view-in-github",
        "colab_type": "text"
      },
      "source": [
        "<a href=\"https://colab.research.google.com/github/anavarrete9/03MIAR---Algoritmos-de-Optimizacion-2022-2023/blob/main/Algoritmos_AG2_Amaia_Navarrete.ipynb\" target=\"_parent\"><img src=\"https://colab.research.google.com/assets/colab-badge.svg\" alt=\"Open In Colab\"/></a>"
      ]
    },
    {
      "cell_type": "markdown",
      "source": [
        "Nombre: Amaia Navarrete Muro <br>\n",
        "\n",
        "Link: [https://colab.research.google.com/drive/1qAnquy06bO3rAbxOZZ0ntx5wVk35Goui#scrollTo=vkspqnEOjXam](https://colab.research.google.com/drive/1qAnquy06bO3rAbxOZZ0ntx5wVk35Goui#scrollTo=vkspqnEOjXam) \n",
        "\n",
        "Github: [https://github.com/anavarrete9/03MIAR---Algoritmos-de-Optimizacion-2022-2023](https://github.com/anavarrete9/03MIAR---Algoritmos-de-Optimizacion-2022-2023)"
      ],
      "metadata": {
        "id": "vkspqnEOjXam"
      }
    },
    {
      "cell_type": "code",
      "source": [
        "import math"
      ],
      "metadata": {
        "id": "y2nYfIpNj3HE"
      },
      "execution_count": null,
      "outputs": []
    },
    {
      "cell_type": "code",
      "source": [
        "#PROGRAMACIÓN DINÁMICA\n",
        "#Viaje por el río\n",
        "\n",
        "TARIFAS = [\n",
        "[0, 5, 4, 3, float(\"inf\"), 999, 999],   #desde nodo 0\n",
        "[999, 0, 999, 2, 3, 999, 11],  #desde nodo 1\n",
        "[999, 999, 0, 1, 999, 4, 10], #desde nodo 2\n",
        "[999, 999, 999, 0, 5, 6, 9],\n",
        "[999, 999, 999, 999, 0, 999, 4],\n",
        "[999, 999, 999, 999, 999, 0, 3],\n",
        "[999, 999, 999, 999, 999, 999, 0]\n",
        "]"
      ],
      "metadata": {
        "id": "3zx9_Bvuj5Pi"
      },
      "execution_count": null,
      "outputs": []
    },
    {
      "cell_type": "code",
      "source": [
        "def Precios(TARIFAS):\n",
        "################################################################ \n",
        "  #Total de Nodos\n",
        "  N = len(TARIFAS[0])\n",
        "  \n",
        "  #Inicialización de la tabla de precios\n",
        "  PRECIOS = [ [9999]*N for i in [9999]*N]  #n x n \n",
        "  RUTA = [ [\"\"]*N for i in [\"\"]*N]\n",
        "  \n",
        "  #Se recorren todos los nodos con dos bucles(origen - destino)\n",
        "  #  para ir construyendo la matriz de PRECIOS\n",
        "  for i in range(N-1):\n",
        "    for j in range(i+1, N):\n",
        "      MIN = TARIFAS[i][j]\n",
        "      RUTA[i][j] = i\n",
        "      \n",
        "      for k in range(i, j):\n",
        "        if PRECIOS[i][k] + TARIFAS[k][j] < MIN:\n",
        "            MIN = min(MIN, PRECIOS[i][k] + TARIFAS[k][j] )\n",
        "            RUTA[i][j] = k\n",
        "        PRECIOS[i][j] = MIN\n",
        "        \n",
        "  return PRECIOS,RUTA\n",
        "\n",
        "PRECIOS, RUTA = Precios(TARIFAS)\n",
        "PRECIOS, RUTA"
      ],
      "metadata": {
        "colab": {
          "base_uri": "https://localhost:8080/"
        },
        "id": "kBXml4lEprzE",
        "outputId": "17e64061-ae10-40f1-844b-67a465adf428"
      },
      "execution_count": null,
      "outputs": [
        {
          "output_type": "execute_result",
          "data": {
            "text/plain": [
              "([[9999, 5, 4, 3, 8, 8, 11],\n",
              "  [9999, 9999, 999, 2, 3, 8, 7],\n",
              "  [9999, 9999, 9999, 1, 6, 4, 7],\n",
              "  [9999, 9999, 9999, 9999, 5, 6, 9],\n",
              "  [9999, 9999, 9999, 9999, 9999, 999, 4],\n",
              "  [9999, 9999, 9999, 9999, 9999, 9999, 3],\n",
              "  [9999, 9999, 9999, 9999, 9999, 9999, 9999]],\n",
              " [['', 0, 0, 0, 1, 2, 5],\n",
              "  ['', '', 1, 1, 1, 3, 4],\n",
              "  ['', '', '', 2, 3, 2, 5],\n",
              "  ['', '', '', '', 3, 3, 3],\n",
              "  ['', '', '', '', '', 4, 4],\n",
              "  ['', '', '', '', '', '', 5],\n",
              "  ['', '', '', '', '', '', '']])"
            ]
          },
          "metadata": {},
          "execution_count": 8
        }
      ]
    },
    {
      "cell_type": "code",
      "source": [
        "#Calculo de la ruta usando la matriz RUTA\n",
        "def calcular_ruta(RUTA, desde, hasta):\n",
        "  if desde == RUTA[desde][hasta]:\n",
        "  #if desde == hasta:\n",
        "    #print(\"Ir a :\" + str(desde))\n",
        "    return desde \n",
        "  else:\n",
        "    return str(calcular_ruta(RUTA, desde, RUTA[desde][hasta])) +  ',' + str(RUTA[desde][hasta]) \n",
        "\n",
        "print(\"\\nLa ruta es:\")  \n",
        "calcular_ruta(RUTA, 0,6) "
      ],
      "metadata": {
        "colab": {
          "base_uri": "https://localhost:8080/",
          "height": 70
        },
        "id": "4aIonRXZsQ2L",
        "outputId": "6943b61a-780e-4bd4-ee7c-dea589535d5c"
      },
      "execution_count": null,
      "outputs": [
        {
          "output_type": "stream",
          "name": "stdout",
          "text": [
            "\n",
            "La ruta es:\n"
          ]
        },
        {
          "output_type": "execute_result",
          "data": {
            "text/plain": [
              "'0,2,5'"
            ],
            "application/vnd.google.colaboratory.intrinsic+json": {
              "type": "string"
            }
          },
          "metadata": {},
          "execution_count": 9
        }
      ]
    },
    {
      "cell_type": "code",
      "source": [
        "#RAMIFICACIÓN Y PODA\n",
        "#Asignación de tareas\n",
        "\n",
        "#    T A R E A \n",
        "#   A\n",
        "#   G\n",
        "#   E\n",
        "#   N\n",
        "#   T\n",
        "#   E\n",
        "\n",
        "COSTES=[[11,12,18,40],\n",
        "        [14,15,13,22],\n",
        "        [11,17,19,23],\n",
        "        [17,14,20,28]]\n",
        "\n",
        "\n",
        "#Calculo del valor de una solucion parcial\n",
        "def valor(S,COSTES):\n",
        "  VALOR = 0\n",
        "  for i in range(len(S)):\n",
        "    VALOR += COSTES[S[i]][i] \n",
        "  return VALOR\n",
        "# valor((3,2,  ),COSTES)\n",
        "\n",
        "\n",
        "#Coste inferior para soluciones parciales\n",
        "#  (1,3,) Se asigna la tarea 1 al agente 0 y la tarea 3 al agente 1\n",
        "def CI(S,COSTES):\n",
        "  VALOR = 0\n",
        "  #Valores establecidos\n",
        "  for i in range(len(S)):\n",
        "    VALOR += COSTES[i][S[i]]\n",
        "\n",
        "  #Estimacion\n",
        "  for i in range( len(S), len(COSTES)   ):\n",
        "    VALOR += min( [ COSTES[j][i] for j in range(len(S), len(COSTES))  ])\n",
        "  return VALOR\n",
        "\n",
        "def CS(S,COSTES):\n",
        "  VALOR = 0\n",
        "  #Valores establecidos\n",
        "  for i in range(len(S)):\n",
        "    VALOR += COSTES[i][S[i]]\n",
        "\n",
        "  #Estimacion\n",
        "  for i in range( len(S), len(COSTES)   ):\n",
        "    VALOR += max( [ COSTES[j][i] for j in range(len(S), len(COSTES))  ])\n",
        "  return VALOR"
      ],
      "metadata": {
        "id": "FPtKW_rCp3WZ"
      },
      "execution_count": null,
      "outputs": []
    },
    {
      "cell_type": "code",
      "source": [
        "#Genera tantos hijos como como posibilidades haya para la siguiente elemento de la tupla\n",
        "#(0,) -> (0,1), (0,2), (0,3)\n",
        "def crear_hijos(NODO, N):\n",
        "  HIJOS = []\n",
        "  for i in range(N ):\n",
        "    if i not in NODO:\n",
        "      HIJOS.append({'s':NODO +(i,)    })\n",
        "  return HIJOS\n",
        "\n",
        "crear_hijos((0,), 4)"
      ],
      "metadata": {
        "colab": {
          "base_uri": "https://localhost:8080/"
        },
        "id": "5QBqSoU301RW",
        "outputId": "52a0cf41-591d-42c7-d126-6741c0e7e48f"
      },
      "execution_count": null,
      "outputs": [
        {
          "output_type": "execute_result",
          "data": {
            "text/plain": [
              "[{'s': (0, 1)}, {'s': (0, 2)}, {'s': (0, 3)}]"
            ]
          },
          "metadata": {},
          "execution_count": 2
        }
      ]
    },
    {
      "cell_type": "code",
      "source": [
        "def ramificacion_y_poda(COSTES):\n",
        "#Construccion iterativa de soluciones(arbol). En cada etapa asignamos un agente(ramas).\n",
        "#Nodos del grafo  { s:(1,2),CI:3,CS:5  }\n",
        "  #print(COSTES)\n",
        "  DIMENSION = len(COSTES)  \n",
        "  MEJOR_SOLUCION=tuple( i for i in range(len(COSTES)) )\n",
        "  CotaSup = valor(MEJOR_SOLUCION,COSTES)\n",
        "  #print(\"Cota Superior:\", CotaSup)\n",
        "\n",
        "  NODOS=[]\n",
        "  NODOS.append({'s':(), 'ci':CI((),COSTES)    } )\n",
        "\n",
        "  iteracion = 0\n",
        "\n",
        "  while( len(NODOS) > 0):\n",
        "    iteracion +=1\n",
        "\n",
        "    nodo_prometedor = [ min(NODOS, key=lambda x:x['ci']) ][0]['s']\n",
        "    #print(\"Nodo prometedor:\", nodo_prometedor)\n",
        "\n",
        "    #Ramificacion\n",
        "    #Se generan los hijos\n",
        "    HIJOS =[ {'s':x['s'], 'ci':CI(x['s'], COSTES)   } for x in crear_hijos(nodo_prometedor, DIMENSION) ]\n",
        "\n",
        "    #Revisamos la cota superior y nos quedamos con la mejor solucion si llegamos a una solucion final\n",
        "    NODO_FINAL = [x for x in HIJOS if len(x['s']) == DIMENSION  ]\n",
        "    if len(NODO_FINAL ) >0: \n",
        "      #print(\"\\n********Soluciones:\",  [x for x in HIJOS if len(x['s']) == DIMENSION  ] )\n",
        "      if NODO_FINAL[0]['ci'] < CotaSup:\n",
        "        CotaSup = NODO_FINAL[0]['ci']\n",
        "        MEJOR_SOLUCION = NODO_FINAL\n",
        " \n",
        "    #Poda\n",
        "    HIJOS = [x for x in HIJOS if x['ci'] < CotaSup   ]\n",
        "\n",
        "    #Añadimos los hijos \n",
        "    NODOS.extend(HIJOS) \n",
        "\n",
        "    #Eliminamos el nodo ramificado\n",
        "    NODOS =  [  x for x in NODOS if x['s'] != nodo_prometedor    ]\n",
        "   \n",
        "  print(\"La solucion final es:\" ,MEJOR_SOLUCION , \" en \" , iteracion , \" iteraciones\" , \" para dimension: \" ,DIMENSION  )\n",
        "      \n",
        "\n",
        "\n",
        "ramificacion_y_poda(COSTES)"
      ],
      "metadata": {
        "colab": {
          "base_uri": "https://localhost:8080/"
        },
        "id": "SJ2o8o7c1ntH",
        "outputId": "e494cde7-b8e2-41e7-ef0b-5a91562e033e"
      },
      "execution_count": null,
      "outputs": [
        {
          "output_type": "stream",
          "name": "stdout",
          "text": [
            "La solucion final es: [{'s': (1, 2, 0, 3), 'ci': 64}]  en  10  iteraciones  para dimension:  4\n"
          ]
        }
      ]
    },
    {
      "cell_type": "code",
      "source": [
        "#FUERZA BRUTA (diapositivas)\n",
        "import itertools\n",
        "def fuerza_bruta(COSTES):\n",
        "  #Representación de la solución será una tupla donde cada valor en la coordenada i-ésima es la tarea asignada al agente i\n",
        "  #Ejemplo (1,2,3,4) Tiene un valor 11+15+19+28=73\n",
        "\n",
        "  #Complejidad factorial (exponencial)\n",
        "  #Con dimensión 11 tarda 1 minuto la ejecución\n",
        "\n",
        "  mejor_valor = 10e10\n",
        "  mejor_solucion = ()\n",
        "\n",
        "  for s in list(itertools.permutations(range(len(COSTES)))):\n",
        "    valor_tmp = valor(s,COSTES)\n",
        "    if valor_tmp < mejor_valor:\n",
        "      mejor_valor = valor_tmp\n",
        "      mejor_solucion = s\n",
        "  print('La mejor solución es :', mejor_solucion, ' con valor: ', mejor_valor)\n",
        "  return"
      ],
      "metadata": {
        "id": "geY8o6t6nfQb"
      },
      "execution_count": null,
      "outputs": []
    },
    {
      "cell_type": "code",
      "source": [
        "#ANÁLISIS PARA MEJORAR NOTA\n",
        "import random\n",
        "#Generar matrices con valores aleatorios de mayores dimensiones (5,6,7,…) y ejecutar ambos algoritmos.\n",
        "def matriz_aleatoria(tamaño, valor_min, valor_max):\n",
        "  matriz = []\n",
        "  for i in range(tamaño):\n",
        "    matriz.append([random.randrange(valor_min,valor_max+1) for j in range(tamaño)])\n",
        "  return matriz"
      ],
      "metadata": {
        "id": "mZ3Iwa1vpKSg"
      },
      "execution_count": null,
      "outputs": []
    },
    {
      "cell_type": "code",
      "source": [
        "matriz5 = matriz_aleatoria(5, 10, 40)\n",
        "matriz6 = matriz_aleatoria(6, 10, 40)\n",
        "matriz7 = matriz_aleatoria(7, 10, 40)\n",
        "matriz8 = matriz_aleatoria(8, 10, 40)\n",
        "matriz9 = matriz_aleatoria(9, 10, 40)\n",
        "matriz10 = matriz_aleatoria(10, 10, 40)\n",
        "matriz11 = matriz_aleatoria(11, 10, 40)\n",
        "matriz12 = matriz_aleatoria(12, 10, 40)\n",
        "matrices = [matriz5, matriz6, matriz7, matriz8, matriz9, matriz10, matriz11, matriz12]"
      ],
      "metadata": {
        "id": "oGQJPbKZrffb"
      },
      "execution_count": null,
      "outputs": []
    },
    {
      "cell_type": "code",
      "source": [
        "#¿A partir de que dimensión el algoritmo por fuerza bruta deja de ser una opción?\n",
        "import time\n",
        "c = 5\n",
        "for i in matrices:\n",
        "  t0 = time.time()\n",
        "  fuerza_bruta(i)\n",
        "  t1 = time.time()\n",
        "  print('Tiempo para matriz',str(c),': ', t1-t0)\n",
        "  c += 1"
      ],
      "metadata": {
        "colab": {
          "base_uri": "https://localhost:8080/"
        },
        "id": "6ORAiUSnsSna",
        "outputId": "e532f880-a5ca-4d26-8e22-669b5be64e9e"
      },
      "execution_count": null,
      "outputs": [
        {
          "output_type": "stream",
          "name": "stdout",
          "text": [
            "La mejor solución es : (2, 3, 4, 1, 0)  con valor:  84\n",
            "Tiempo para matriz  5 :  0.006020784378051758\n",
            "La mejor solución es : (2, 3, 1, 5, 0, 4)  con valor:  87\n",
            "Tiempo para matriz  6 :  0.001588582992553711\n",
            "La mejor solución es : (3, 0, 2, 6, 4, 5, 1)  con valor:  96\n",
            "Tiempo para matriz  7 :  0.025174617767333984\n",
            "La mejor solución es : (5, 4, 0, 3, 7, 6, 1, 2)  con valor:  125\n",
            "Tiempo para matriz  8 :  0.11576080322265625\n",
            "La mejor solución es : (0, 8, 5, 7, 3, 4, 1, 6, 2)  con valor:  137\n",
            "Tiempo para matriz  9 :  1.1900298595428467\n",
            "La mejor solución es : (2, 4, 0, 8, 3, 7, 5, 9, 6, 1)  con valor:  128\n",
            "Tiempo para matriz  10 :  6.749760150909424\n"
          ]
        }
      ]
    },
    {
      "cell_type": "markdown",
      "source": [
        "Para el tamaño de matriz 11 el cuaderno de colab da error por haber utilizado toda la memoria RAM disponible, por lo que el algoritmo de fuerza bruta no es factible para matrices de tamaño mayor o igual a 11."
      ],
      "metadata": {
        "id": "sWu_Iemruxy5"
      }
    },
    {
      "cell_type": "code",
      "source": [
        "#¿Hay algún valor de la dimensión a partir de la cual el algoritmo de ramificación y poda también deja de ser una opción válida?\n",
        "import time\n",
        "c = 5\n",
        "for i in matrices:\n",
        "  t0 = time.time()\n",
        "  ramificacion_y_poda(i)\n",
        "  t1 = time.time()\n",
        "  print('Tiempo para matriz',str(c),': ', t1-t0)\n",
        "  c += 1"
      ],
      "metadata": {
        "colab": {
          "base_uri": "https://localhost:8080/",
          "height": 623
        },
        "id": "x3sSEFqdvJd0",
        "outputId": "025ded48-ed96-4c4d-c8f3-2f7ab0c64ab2"
      },
      "execution_count": null,
      "outputs": [
        {
          "output_type": "stream",
          "name": "stdout",
          "text": [
            "La solucion final es: [{'s': (3, 0, 2, 1, 4), 'ci': 84}]  en  48  iteraciones  para dimension:  5\n",
            "Tiempo para matriz 5 :  0.004318952560424805\n",
            "La solucion final es: [{'s': (1, 2, 3, 0, 4, 5), 'ci': 95}]  en  68  iteraciones  para dimension:  6\n",
            "Tiempo para matriz 6 :  0.008234024047851562\n",
            "La solucion final es: [{'s': (6, 1, 5, 3, 2, 0, 4), 'ci': 117}]  en  357  iteraciones  para dimension:  7\n",
            "Tiempo para matriz 7 :  0.03198647499084473\n",
            "La solucion final es: [{'s': (7, 6, 2, 5, 3, 1, 0, 4), 'ci': 119}]  en  1176  iteraciones  para dimension:  8\n",
            "Tiempo para matriz 8 :  0.15465521812438965\n",
            "La solucion final es: [{'s': (8, 6, 2, 5, 3, 4, 0, 1, 7), 'ci': 150}]  en  1227  iteraciones  para dimension:  9\n",
            "Tiempo para matriz 9 :  0.1786048412322998\n",
            "La solucion final es: [{'s': (5, 0, 4, 6, 2, 1, 7, 3, 8, 9), 'ci': 126}]  en  5094  iteraciones  para dimension:  10\n",
            "Tiempo para matriz 10 :  3.9005684852600098\n",
            "La solucion final es: [{'s': (2, 1, 10, 3, 5, 0, 9, 4, 6, 8, 7), 'ci': 142}]  en  14602  iteraciones  para dimension:  11\n",
            "Tiempo para matriz 11 :  26.850892782211304\n"
          ]
        },
        {
          "output_type": "error",
          "ename": "KeyboardInterrupt",
          "evalue": "ignored",
          "traceback": [
            "\u001b[0;31m---------------------------------------------------------------------------\u001b[0m",
            "\u001b[0;31mKeyboardInterrupt\u001b[0m                         Traceback (most recent call last)",
            "\u001b[0;32m<ipython-input-8-756e3a2c29fa>\u001b[0m in \u001b[0;36m<module>\u001b[0;34m\u001b[0m\n\u001b[1;32m      4\u001b[0m \u001b[0;32mfor\u001b[0m \u001b[0mi\u001b[0m \u001b[0;32min\u001b[0m \u001b[0mmatrices\u001b[0m\u001b[0;34m:\u001b[0m\u001b[0;34m\u001b[0m\u001b[0;34m\u001b[0m\u001b[0m\n\u001b[1;32m      5\u001b[0m   \u001b[0mt0\u001b[0m \u001b[0;34m=\u001b[0m \u001b[0mtime\u001b[0m\u001b[0;34m.\u001b[0m\u001b[0mtime\u001b[0m\u001b[0;34m(\u001b[0m\u001b[0;34m)\u001b[0m\u001b[0;34m\u001b[0m\u001b[0;34m\u001b[0m\u001b[0m\n\u001b[0;32m----> 6\u001b[0;31m   \u001b[0mramificacion_y_poda\u001b[0m\u001b[0;34m(\u001b[0m\u001b[0mi\u001b[0m\u001b[0;34m)\u001b[0m\u001b[0;34m\u001b[0m\u001b[0;34m\u001b[0m\u001b[0m\n\u001b[0m\u001b[1;32m      7\u001b[0m   \u001b[0mt1\u001b[0m \u001b[0;34m=\u001b[0m \u001b[0mtime\u001b[0m\u001b[0;34m.\u001b[0m\u001b[0mtime\u001b[0m\u001b[0;34m(\u001b[0m\u001b[0;34m)\u001b[0m\u001b[0;34m\u001b[0m\u001b[0;34m\u001b[0m\u001b[0m\n\u001b[1;32m      8\u001b[0m   \u001b[0mprint\u001b[0m\u001b[0;34m(\u001b[0m\u001b[0;34m'Tiempo para matriz'\u001b[0m\u001b[0;34m,\u001b[0m\u001b[0mstr\u001b[0m\u001b[0;34m(\u001b[0m\u001b[0mc\u001b[0m\u001b[0;34m)\u001b[0m\u001b[0;34m,\u001b[0m\u001b[0;34m': '\u001b[0m\u001b[0;34m,\u001b[0m \u001b[0mt1\u001b[0m\u001b[0;34m-\u001b[0m\u001b[0mt0\u001b[0m\u001b[0;34m)\u001b[0m\u001b[0;34m\u001b[0m\u001b[0;34m\u001b[0m\u001b[0m\n",
            "\u001b[0;32m<ipython-input-3-dde2c8f71a4e>\u001b[0m in \u001b[0;36mramificacion_y_poda\u001b[0;34m(COSTES)\u001b[0m\n\u001b[1;32m     16\u001b[0m     \u001b[0miteracion\u001b[0m \u001b[0;34m+=\u001b[0m\u001b[0;36m1\u001b[0m\u001b[0;34m\u001b[0m\u001b[0;34m\u001b[0m\u001b[0m\n\u001b[1;32m     17\u001b[0m \u001b[0;34m\u001b[0m\u001b[0m\n\u001b[0;32m---> 18\u001b[0;31m     \u001b[0mnodo_prometedor\u001b[0m \u001b[0;34m=\u001b[0m \u001b[0;34m[\u001b[0m \u001b[0mmin\u001b[0m\u001b[0;34m(\u001b[0m\u001b[0mNODOS\u001b[0m\u001b[0;34m,\u001b[0m \u001b[0mkey\u001b[0m\u001b[0;34m=\u001b[0m\u001b[0;32mlambda\u001b[0m \u001b[0mx\u001b[0m\u001b[0;34m:\u001b[0m\u001b[0mx\u001b[0m\u001b[0;34m[\u001b[0m\u001b[0;34m'ci'\u001b[0m\u001b[0;34m]\u001b[0m\u001b[0;34m)\u001b[0m \u001b[0;34m]\u001b[0m\u001b[0;34m[\u001b[0m\u001b[0;36m0\u001b[0m\u001b[0;34m]\u001b[0m\u001b[0;34m[\u001b[0m\u001b[0;34m's'\u001b[0m\u001b[0;34m]\u001b[0m\u001b[0;34m\u001b[0m\u001b[0;34m\u001b[0m\u001b[0m\n\u001b[0m\u001b[1;32m     19\u001b[0m     \u001b[0;31m#print(\"Nodo prometedor:\", nodo_prometedor)\u001b[0m\u001b[0;34m\u001b[0m\u001b[0;34m\u001b[0m\u001b[0;34m\u001b[0m\u001b[0m\n\u001b[1;32m     20\u001b[0m \u001b[0;34m\u001b[0m\u001b[0m\n",
            "\u001b[0;32m<ipython-input-3-dde2c8f71a4e>\u001b[0m in \u001b[0;36m<lambda>\u001b[0;34m(x)\u001b[0m\n\u001b[1;32m     16\u001b[0m     \u001b[0miteracion\u001b[0m \u001b[0;34m+=\u001b[0m\u001b[0;36m1\u001b[0m\u001b[0;34m\u001b[0m\u001b[0;34m\u001b[0m\u001b[0m\n\u001b[1;32m     17\u001b[0m \u001b[0;34m\u001b[0m\u001b[0m\n\u001b[0;32m---> 18\u001b[0;31m     \u001b[0mnodo_prometedor\u001b[0m \u001b[0;34m=\u001b[0m \u001b[0;34m[\u001b[0m \u001b[0mmin\u001b[0m\u001b[0;34m(\u001b[0m\u001b[0mNODOS\u001b[0m\u001b[0;34m,\u001b[0m \u001b[0mkey\u001b[0m\u001b[0;34m=\u001b[0m\u001b[0;32mlambda\u001b[0m \u001b[0mx\u001b[0m\u001b[0;34m:\u001b[0m\u001b[0mx\u001b[0m\u001b[0;34m[\u001b[0m\u001b[0;34m'ci'\u001b[0m\u001b[0;34m]\u001b[0m\u001b[0;34m)\u001b[0m \u001b[0;34m]\u001b[0m\u001b[0;34m[\u001b[0m\u001b[0;36m0\u001b[0m\u001b[0;34m]\u001b[0m\u001b[0;34m[\u001b[0m\u001b[0;34m's'\u001b[0m\u001b[0;34m]\u001b[0m\u001b[0;34m\u001b[0m\u001b[0;34m\u001b[0m\u001b[0m\n\u001b[0m\u001b[1;32m     19\u001b[0m     \u001b[0;31m#print(\"Nodo prometedor:\", nodo_prometedor)\u001b[0m\u001b[0;34m\u001b[0m\u001b[0;34m\u001b[0m\u001b[0;34m\u001b[0m\u001b[0m\n\u001b[1;32m     20\u001b[0m \u001b[0;34m\u001b[0m\u001b[0m\n",
            "\u001b[0;31mKeyboardInterrupt\u001b[0m: "
          ]
        }
      ]
    },
    {
      "cell_type": "markdown",
      "source": [
        "El algoritmo de ramificación y poda tarda más de 7 minutos (he parado la ejecución) para una matriz de \n",
        "tamaño 12, por lo que este algoritmo dejará de ser una opción válida para matrices de tamaño 12 y mayor."
      ],
      "metadata": {
        "id": "EO60Mzt0wV4O"
      }
    }
  ]
}